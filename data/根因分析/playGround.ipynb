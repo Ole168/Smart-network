{
 "cells": [
  {
   "cell_type": "code",
   "execution_count": 1,
   "metadata": {},
   "outputs": [],
   "source": [
    "import pandas as pd\n",
    "\n",
    "\n",
    "#my import\n",
    "import text_data_utils as tdu\n",
    "\n",
    "warning_df = pd.read_csv('./train_warning_utf8.csv', header=0 ,sep=',',index_col=None ) #用0行作为标题\n",
    "warning_df.rename(columns = {'告警开始时间':'time',\n",
    "                            '告警标题':'warning',\n",
    "                             '基站eNBID或小区ECGI':'cell_id'\n",
    "                            },inplace=True)\n",
    "#print(warning_df.head(3))\n",
    "\n",
    "#reshape the time format\n",
    "date_replace_map = tdu.generate_data_replace_string();\n",
    "date_replace_keys = date_replace_map.keys()\n",
    "date_replace_values = []\n",
    "for the_key in date_replace_keys:\n",
    "    date_replace_values.append(date_replace_map.get(the_key))\n",
    "\n",
    "time_replace_map = tdu.generate_time_replace_string();\n",
    "time_replace_keys = time_replace_map.keys()\n",
    "time_replace_value = []\n",
    "for the_key in time_replace_keys:\n",
    "    time_replace_value.append(time_replace_map.get(the_key))\n",
    "warning_df['time'].replace(date_replace_keys,date_replace_values, regex=True, inplace=True)\n",
    "warning_df['time'].replace(time_replace_keys,time_replace_value, regex=True, inplace=True)\n",
    "\n",
    "#print(warning_df.head(3))\n",
    "#print(warning_df)"
   ]
  },
  {
   "cell_type": "code",
   "execution_count": 2,
   "metadata": {},
   "outputs": [],
   "source": [
    "warning_df.to_csv('warning_df.csv', index = False)"
   ]
  },
  {
   "cell_type": "code",
   "execution_count": 3,
   "metadata": {},
   "outputs": [],
   "source": [
    "trouble_ticket_df = pd.read_csv('./train_trouble_ticket_utf8.csv', header = 0, sep = ',', index_col = None)\n",
    "trouble_ticket_df.rename(columns = {'工单编号':'ticket_id',\n",
    "                                    '故障发生时间':'time',\n",
    "                                    '涉及基站eNBID或小区ECGI':'cell_id',\n",
    "                                    '故障原因定位（大类）':'classification',\n",
    "                            },inplace=True)\n",
    "\n",
    "#print(trouble_ticket_df.head(3))\n",
    "\n",
    "#reshape the time format\n",
    "date_replace_map = tdu.generate_data_replace_string();\n",
    "date_replace_keys = date_replace_map.keys()\n",
    "date_replace_values = []\n",
    "for the_key in date_replace_keys:\n",
    "    date_replace_values.append(date_replace_map.get(the_key))\n",
    "\n",
    "time_replace_map = tdu.generate_time_replace_string();\n",
    "time_replace_keys = time_replace_map.keys()\n",
    "time_replace_value = []\n",
    "for the_key in time_replace_keys:\n",
    "    time_replace_value.append(time_replace_map.get(the_key))\n",
    "trouble_ticket_df['time'].replace(date_replace_keys,date_replace_values, regex=True, inplace=True)\n",
    "trouble_ticket_df['time'].replace(time_replace_keys,time_replace_value, regex=True, inplace=True)\n",
    "\n",
    "#print(trouble_ticket_df.head(3))"
   ]
  },
  {
   "cell_type": "code",
   "execution_count": 4,
   "metadata": {},
   "outputs": [],
   "source": [
    "trouble_ticket_df.to_csv('trouble_ticket_df.csv', index = False)"
   ]
  },
  {
   "cell_type": "code",
   "execution_count": null,
   "metadata": {},
   "outputs": [],
   "source": [
    "len_warning_df = len(warning_df)\n",
    "len_trouble_ticket_df = len(trouble_ticket_df)\n",
    "\n",
    "result = pd.DataFrame(columns = ('time', 'warning', 'cell_id'))\n",
    "#len_trouble_ticket_df = len(trouble_ticket_df['ticket_id'])\n",
    "for cell_trouble in range(1, len_trouble_ticket_df):\n",
    "    one_ticket_result = pd.DataFrame(columns = ('time', 'warning', 'cell_id'))\n",
    "    for cell_warning in range(1, len_warning_df):\n",
    "        #print(trouble_ticket_df['time'][cell_trouble - 1])\n",
    "        #print(trouble_ticket_df['time'][cell_trouble])\n",
    "        #print(warning_df['time'][cell_warning])\n",
    "        warning_cell_id = warning_df['cell_id'][cell_warning]\n",
    "        trouble_cell_id = trouble_ticket_df['cell_id'][cell_trouble]\n",
    "        warning_time = warning_df['time'][cell_warning]\n",
    "        trouble_time = trouble_ticket_df['time'][cell_trouble]\n",
    "        trouble_last_time = trouble_ticket_df['time'][cell_trouble - 1]\n",
    "        if warning_cell_id == trouble_cell_id  and  warning_time <= trouble_time  and  warning_time >= trouble_last_time:\n",
    "            one_ticket_result = one_ticket_result.append(pd.DataFrame({'time':[warning_df['time'][cell_warning]],\n",
    "                                                                       'warning':[warning_df['warning'][cell_warning]],\n",
    "                                                                       'cell_id':[warning_df['cell_id'][cell_warning]]\n",
    "                                                                      }), ignore_index = True)\n",
    "    #print(one_ticket_result)\n",
    "    result = result.append(one_ticket_result)\n",
    "#print(result)\n"
   ]
  },
  {
   "cell_type": "code",
   "execution_count": 20,
   "metadata": {},
   "outputs": [],
   "source": [
    "result.to_csv('result.csv')"
   ]
  },
  {
   "cell_type": "code",
   "execution_count": null,
   "metadata": {},
   "outputs": [],
   "source": []
  }
 ],
 "metadata": {
  "kernelspec": {
   "display_name": "py37",
   "language": "python",
   "name": "py37"
  },
  "language_info": {
   "codemirror_mode": {
    "name": "ipython",
    "version": 3
   },
   "file_extension": ".py",
   "mimetype": "text/x-python",
   "name": "python",
   "nbconvert_exporter": "python",
   "pygments_lexer": "ipython3",
   "version": "3.7.3"
  }
 },
 "nbformat": 4,
 "nbformat_minor": 2
}
