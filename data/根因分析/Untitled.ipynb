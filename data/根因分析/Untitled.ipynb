{
 "cells": [
  {
   "cell_type": "code",
   "execution_count": 2,
   "metadata": {},
   "outputs": [
    {
     "name": "stdout",
     "output_type": "stream",
     "text": [
      "<class 'pandas.core.frame.DataFrame'>\n",
      "工单编号      int64\n",
      "电力故障    float64\n",
      "传输故障    float64\n",
      "软件故障    float64\n",
      "硬件故障    float64\n",
      "动环故障    float64\n",
      "误告警       int64\n",
      "dtype: object\n"
     ]
    }
   ],
   "source": [
    "import pandas\n",
    "food_info = pandas.read_csv(\"sample.csv\",encoding=\"gbk\")\n",
    "print(type(food_info))\n",
    "print(food_info.dtypes)"
   ]
  },
  {
   "cell_type": "code",
   "execution_count": 7,
   "metadata": {},
   "outputs": [
    {
     "name": "stdout",
     "output_type": "stream",
     "text": [
      "<class 'pandas.core.frame.DataFrame'>\n",
      "工单编号      int64\n",
      "电力故障    float64\n",
      "传输故障    float64\n",
      "软件故障    float64\n",
      "硬件故障    float64\n",
      "动环故障    float64\n",
      "误告警       int64\n",
      "dtype: object\n"
     ]
    }
   ],
   "source": [
    "food_info = pandas.read_csv(\"utf8_sample.csv\")\n",
    "print(type(food_info))\n",
    "print(food_info.dtypes)"
   ]
  },
  {
   "cell_type": "code",
   "execution_count": 11,
   "metadata": {},
   "outputs": [
    {
     "name": "stdout",
     "output_type": "stream",
     "text": [
      "      工单编号           故障发生时间                  涉及基站eNBID或小区ECGI  故障原因定位（大类）\n",
      "0        1   2019/2/4 23:24  58B4197A787CA6C6612AE70B1F7BB2D1         NaN\n",
      "1        2    2019/2/5 0:13  62C09C40A560305AA188A5EFEC193A91         NaN\n",
      "2        3    2019/2/5 2:40  060A836869721E611919D548FB499D6F         NaN\n",
      "3        4    2019/2/5 3:50  1A221D9C8D2833537814C250D26EAF25         NaN\n",
      "4        5    2019/2/5 5:02  785926C270073CFB07C067A0A1D5703D         NaN\n",
      "...    ...              ...                               ...         ...\n",
      "4946  4947  2019/3/31 18:51  E6D00DA0D5DB0951FEFB42D11281F18B         NaN\n",
      "4947  4948  2019/3/31 18:55  5AAC6D7FAD6E7D136D9518745C89E0D3         NaN\n",
      "4948  4949  2019/3/31 19:10  D15F239D87E5B020586287EB47777859         NaN\n",
      "4949  4950  2019/3/31 19:19  5AAC6D7FAD6E7D136D9518745C89E0D3         NaN\n",
      "4950  4951  2019/3/31 21:44  199038352C1A4050AEED9B198F52E44C         NaN\n",
      "\n",
      "[4951 rows x 4 columns]\n",
      "<class 'pandas.core.frame.DataFrame'>\n",
      "工单编号                  int64\n",
      "故障发生时间               object\n",
      "涉及基站eNBID或小区ECGI     object\n",
      "故障原因定位（大类）          float64\n",
      "dtype: object\n"
     ]
    }
   ],
   "source": [
    "food_info = pandas.read_csv(\"utf8_测试故障工单.csv\")\n",
    "print(food_info)\n",
    "print(type(food_info))\n",
    "print(food_info.dtypes)"
   ]
  },
  {
   "cell_type": "code",
   "execution_count": null,
   "metadata": {},
   "outputs": [],
   "source": []
  }
 ],
 "metadata": {
  "kernelspec": {
   "display_name": "py37",
   "language": "python",
   "name": "py37"
  },
  "language_info": {
   "codemirror_mode": {
    "name": "ipython",
    "version": 3
   },
   "file_extension": ".py",
   "mimetype": "text/x-python",
   "name": "python",
   "nbconvert_exporter": "python",
   "pygments_lexer": "ipython3",
   "version": "3.7.3"
  }
 },
 "nbformat": 4,
 "nbformat_minor": 2
}
